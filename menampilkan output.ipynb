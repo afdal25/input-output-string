{
 "cells": [
  {
   "cell_type": "markdown",
   "id": "3370d493",
   "metadata": {},
   "source": [
    "<p> Jika terdapat kalimat UNIVERSITAS NUSA PUTRA SUKABUMI ,buatlah kode program untuk menampilkan output:\n",
    "a. putra nusa \n",
    "b. NIVERSITAS NSA PTRA SKABMI\n",
    "c. SUKABUMI PUTRA NUSA UNIVERSITAS\n",
    "d. UNPS\n",
    "e. TAS SAPU BUMI \n",
    "<p>\n"
   ]
  },
  {
   "cell_type": "code",
   "execution_count": 38,
   "id": "cf44e896",
   "metadata": {},
   "outputs": [
    {
     "name": "stdout",
     "output_type": "stream",
     "text": [
      "PUTRA NUSA\n",
      "UNIVERSITA USA  P TRA  UKABUMI \n",
      "['SUKABUMI', 'PUTRA', 'NUSA', 'UNIVERSITAS']\n",
      "U N P S\n",
      "TAS PUTRA SUKABUMI\n"
     ]
    }
   ],
   "source": [
    "kalimat = \" UNIVERSITAS NUSA PUTRA SUKABUMI \"\n",
    "\n",
    "#MENGAMBIL KATA (PUTRA NUSA)\n",
    "kata_pertama = kalimat.split()[2] + \" \" + kalimat.split()[1]\n",
    "print(kata_pertama)\n",
    "\n",
    "#MENGAMBIL KATA (NIVERSITAS NSA PTRA SKABMI)\n",
    "kata_kedua = kalimat[1:11] + \" \" + kalimat[14:18] + \" \" + kalimat[18] + \" \" + kalimat[20:24] + \" \" + kalimat[25:]\n",
    "print(kata_kedua)\n",
    "\n",
    "#MENGAMBIL KATA (SUKABUMI PUTRA NUSA UNIVERSITAS)\n",
    "kata_ketiga = kalimat.split()[::-1] \n",
    "print(kata_ketiga)\n",
    "\n",
    "#MENGAMBIL KATA (UNPS)\n",
    "kata_keempat = kalimat.split()[0][0] + \" \" + kalimat.split()[1][0] + \" \" + kalimat.split()[2][0] + \" \" + kalimat.split()[3][0]\n",
    "print(kata_keempat)\n",
    "\n",
    "#MENGAMBIL KATA (TAS SAPU BUMI )\n",
    "kata_kelima = kalimat.split()[0][-3:] + \" \" + kalimat.split()[2] + \" \" + kalimat.split()[-1]\n",
    "print(kata_kelima)\n"
   ]
  },
  {
   "cell_type": "code",
   "execution_count": null,
   "id": "d390e328",
   "metadata": {},
   "outputs": [],
   "source": []
  }
 ],
 "metadata": {
  "kernelspec": {
   "display_name": "Python 3 (ipykernel)",
   "language": "python",
   "name": "python3"
  },
  "language_info": {
   "codemirror_mode": {
    "name": "ipython",
    "version": 3
   },
   "file_extension": ".py",
   "mimetype": "text/x-python",
   "name": "python",
   "nbconvert_exporter": "python",
   "pygments_lexer": "ipython3",
   "version": "3.11.5"
  }
 },
 "nbformat": 4,
 "nbformat_minor": 5
}
