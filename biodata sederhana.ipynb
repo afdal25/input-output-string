{
 "cells": [
  {
   "cell_type": "markdown",
   "id": "dd10c915",
   "metadata": {},
   "source": [
    "\n",
    "<h1> Buatlah biodata sederhana dengan menggunakan fungsi input(), dan output variabel dengan fungsi format() <h1>\n"
   ]
  },
  {
   "cell_type": "code",
   "execution_count": 1,
   "id": "3366800e",
   "metadata": {},
   "outputs": [
    {
     "name": "stdout",
     "output_type": "stream",
     "text": [
      "masukan nama : hj\n",
      "masukan umur : 45\n",
      "masukan kelas : jghkj\n",
      "masukan alamat : ghj\n",
      "\n",
      " Nama : hj \n",
      " \n",
      " Umur : 45\n",
      " \n",
      " Kelas : jghkj \n",
      " \n",
      " Alamat : ghj \n",
      "\n"
     ]
    }
   ],
   "source": [
    "nama = input('masukan nama : ')\n",
    "umur = input('masukan umur : ')\n",
    "kelas = input('masukan kelas : ')\n",
    "alamat = input('masukan alamat : ')\n",
    "\n",
    "biodata = \"\\n Nama : {} \\n \\n Umur : {}\\n \\n Kelas : {} \\n \\n Alamat : {} \\n\".format(nama,int(umur),kelas,alamat)\n",
    "\n",
    "print(biodata)"
   ]
  },
  {
   "cell_type": "code",
   "execution_count": null,
   "id": "fba22ac2",
   "metadata": {},
   "outputs": [],
   "source": []
  }
 ],
 "metadata": {
  "kernelspec": {
   "display_name": "Python 3 (ipykernel)",
   "language": "python",
   "name": "python3"
  },
  "language_info": {
   "codemirror_mode": {
    "name": "ipython",
    "version": 3
   },
   "file_extension": ".py",
   "mimetype": "text/x-python",
   "name": "python",
   "nbconvert_exporter": "python",
   "pygments_lexer": "ipython3",
   "version": "3.11.5"
  }
 },
 "nbformat": 4,
 "nbformat_minor": 5
}
